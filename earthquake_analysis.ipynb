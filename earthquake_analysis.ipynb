{
 "cells": [
  {
   "cell_type": "code",
   "execution_count": 1,
   "metadata": {},
   "outputs": [],
   "source": [
    "import numpy as np\n",
    "import pandas as pd\n",
    "import matplotlib.pyplot as plt\n",
    "import seaborn as sns\n"
   ]
  },
  {
   "cell_type": "code",
   "execution_count": 8,
   "metadata": {},
   "outputs": [],
   "source": [
    "# Load the dataset with pandas\n",
    "earthquake_raw = pd.read_csv('earthquake_data.csv')\n"
   ]
  },
  {
   "cell_type": "code",
   "execution_count": null,
   "metadata": {},
   "outputs": [],
   "source": [
    "# Describe the dataset\n",
    "print(earthquake_raw.describe())"
   ]
  },
  {
   "cell_type": "code",
   "execution_count": 13,
   "metadata": {},
   "outputs": [
    {
     "data": {
      "text/plain": [
       "magType\n",
       "mb        992\n",
       "mb_lg       7\n",
       "md       3199\n",
       "mh         11\n",
       "ml       5994\n",
       "mlr         4\n",
       "mlv         1\n",
       "mw          8\n",
       "mwr        28\n",
       "mww        90\n",
       "Name: mag, dtype: int64"
      ]
     },
     "execution_count": 13,
     "metadata": {},
     "output_type": "execute_result"
    }
   ],
   "source": [
    "# group by mag type to see unique values\n",
    "earthquake_raw.groupby('magType').count()['mag']"
   ]
  },
  {
   "cell_type": "code",
   "execution_count": 17,
   "metadata": {},
   "outputs": [
    {
     "data": {
      "text/plain": [
       "type\n",
       "earthquake    10145\n",
       "Name: id, dtype: int64"
      ]
     },
     "execution_count": 17,
     "metadata": {},
     "output_type": "execute_result"
    }
   ],
   "source": [
    "#-------------------------------------------\n",
    "# Data Cleaning\n",
    "#-------------------------------------------\n",
    "# group by 'type' to see unique values\n",
    "# I chose the id column because every row should have a unique id so that \n",
    "# would give me an acurate count of the number of rows in each group\n",
    "earthquake_raw.groupby('type').count()['id'] \n",
    "\n",
    "# conclusion: choosing earthquakes to study I should remove all the other rows from the dataset\n",
    " \n",
    "earthquake_iso = earthquake_raw[earthquake_raw['type'] == 'earthquake']\n",
    "earthquake_iso.groupby('type').count()['id'] # check to see if the rows were removed\n",
    "\n",
    "# conclusion: earthquake_iso is the new dataset that only includes earthquakes\n"
   ]
  },
  {
   "cell_type": "code",
   "execution_count": 18,
   "metadata": {},
   "outputs": [
    {
     "data": {
      "text/html": [
       "<div>\n",
       "<style scoped>\n",
       "    .dataframe tbody tr th:only-of-type {\n",
       "        vertical-align: middle;\n",
       "    }\n",
       "\n",
       "    .dataframe tbody tr th {\n",
       "        vertical-align: top;\n",
       "    }\n",
       "\n",
       "    .dataframe thead th {\n",
       "        text-align: right;\n",
       "    }\n",
       "</style>\n",
       "<table border=\"1\" class=\"dataframe\">\n",
       "  <thead>\n",
       "    <tr style=\"text-align: right;\">\n",
       "      <th></th>\n",
       "      <th>latitude</th>\n",
       "      <th>longitude</th>\n",
       "      <th>depth</th>\n",
       "      <th>mag</th>\n",
       "      <th>nst</th>\n",
       "      <th>gap</th>\n",
       "      <th>dmin</th>\n",
       "      <th>rms</th>\n",
       "      <th>horizontalError</th>\n",
       "      <th>depthError</th>\n",
       "      <th>magError</th>\n",
       "      <th>magNst</th>\n",
       "    </tr>\n",
       "  </thead>\n",
       "  <tbody>\n",
       "    <tr>\n",
       "      <th>count</th>\n",
       "      <td>10145.000000</td>\n",
       "      <td>10145.000000</td>\n",
       "      <td>10145.000000</td>\n",
       "      <td>10144.000000</td>\n",
       "      <td>8661.000000</td>\n",
       "      <td>8661.000000</td>\n",
       "      <td>6670.000000</td>\n",
       "      <td>10145.000000</td>\n",
       "      <td>7705.000000</td>\n",
       "      <td>10144.000000</td>\n",
       "      <td>8365.000000</td>\n",
       "      <td>8653.000000</td>\n",
       "    </tr>\n",
       "    <tr>\n",
       "      <th>mean</th>\n",
       "      <td>37.434758</td>\n",
       "      <td>-110.119316</td>\n",
       "      <td>20.120326</td>\n",
       "      <td>1.597582</td>\n",
       "      <td>23.866528</td>\n",
       "      <td>118.314526</td>\n",
       "      <td>0.964100</td>\n",
       "      <td>0.260649</td>\n",
       "      <td>1.807118</td>\n",
       "      <td>1.899384</td>\n",
       "      <td>0.276746</td>\n",
       "      <td>15.223391</td>\n",
       "    </tr>\n",
       "    <tr>\n",
       "      <th>std</th>\n",
       "      <td>18.715815</td>\n",
       "      <td>64.228604</td>\n",
       "      <td>49.278179</td>\n",
       "      <td>1.316655</td>\n",
       "      <td>22.170439</td>\n",
       "      <td>63.044366</td>\n",
       "      <td>3.126601</td>\n",
       "      <td>0.264173</td>\n",
       "      <td>3.224995</td>\n",
       "      <td>6.838656</td>\n",
       "      <td>0.519639</td>\n",
       "      <td>28.406674</td>\n",
       "    </tr>\n",
       "    <tr>\n",
       "      <th>min</th>\n",
       "      <td>-62.969400</td>\n",
       "      <td>-179.996400</td>\n",
       "      <td>-3.730000</td>\n",
       "      <td>-1.170000</td>\n",
       "      <td>0.000000</td>\n",
       "      <td>11.000000</td>\n",
       "      <td>0.000000</td>\n",
       "      <td>0.000000</td>\n",
       "      <td>0.090000</td>\n",
       "      <td>0.000000</td>\n",
       "      <td>0.000000</td>\n",
       "      <td>0.000000</td>\n",
       "    </tr>\n",
       "    <tr>\n",
       "      <th>25%</th>\n",
       "      <td>33.183333</td>\n",
       "      <td>-150.463000</td>\n",
       "      <td>3.490000</td>\n",
       "      <td>0.730000</td>\n",
       "      <td>10.000000</td>\n",
       "      <td>71.000000</td>\n",
       "      <td>0.027580</td>\n",
       "      <td>0.100000</td>\n",
       "      <td>0.280000</td>\n",
       "      <td>0.480000</td>\n",
       "      <td>0.106000</td>\n",
       "      <td>4.000000</td>\n",
       "    </tr>\n",
       "    <tr>\n",
       "      <th>50%</th>\n",
       "      <td>38.316700</td>\n",
       "      <td>-119.994500</td>\n",
       "      <td>7.810000</td>\n",
       "      <td>1.300000</td>\n",
       "      <td>17.000000</td>\n",
       "      <td>101.000000</td>\n",
       "      <td>0.062984</td>\n",
       "      <td>0.150000</td>\n",
       "      <td>0.470000</td>\n",
       "      <td>0.790000</td>\n",
       "      <td>0.167000</td>\n",
       "      <td>7.000000</td>\n",
       "    </tr>\n",
       "    <tr>\n",
       "      <th>75%</th>\n",
       "      <td>46.888167</td>\n",
       "      <td>-110.807167</td>\n",
       "      <td>14.300000</td>\n",
       "      <td>2.050000</td>\n",
       "      <td>31.000000</td>\n",
       "      <td>155.000000</td>\n",
       "      <td>0.159875</td>\n",
       "      <td>0.330000</td>\n",
       "      <td>0.970000</td>\n",
       "      <td>1.540158</td>\n",
       "      <td>0.250000</td>\n",
       "      <td>16.000000</td>\n",
       "    </tr>\n",
       "    <tr>\n",
       "      <th>max</th>\n",
       "      <td>81.347900</td>\n",
       "      <td>179.975200</td>\n",
       "      <td>638.038000</td>\n",
       "      <td>7.600000</td>\n",
       "      <td>269.000000</td>\n",
       "      <td>350.000000</td>\n",
       "      <td>40.850000</td>\n",
       "      <td>2.470000</td>\n",
       "      <td>22.250000</td>\n",
       "      <td>431.600000</td>\n",
       "      <td>5.520000</td>\n",
       "      <td>645.000000</td>\n",
       "    </tr>\n",
       "  </tbody>\n",
       "</table>\n",
       "</div>"
      ],
      "text/plain": [
       "           latitude     longitude         depth           mag          nst  \\\n",
       "count  10145.000000  10145.000000  10145.000000  10144.000000  8661.000000   \n",
       "mean      37.434758   -110.119316     20.120326      1.597582    23.866528   \n",
       "std       18.715815     64.228604     49.278179      1.316655    22.170439   \n",
       "min      -62.969400   -179.996400     -3.730000     -1.170000     0.000000   \n",
       "25%       33.183333   -150.463000      3.490000      0.730000    10.000000   \n",
       "50%       38.316700   -119.994500      7.810000      1.300000    17.000000   \n",
       "75%       46.888167   -110.807167     14.300000      2.050000    31.000000   \n",
       "max       81.347900    179.975200    638.038000      7.600000   269.000000   \n",
       "\n",
       "               gap         dmin           rms  horizontalError    depthError  \\\n",
       "count  8661.000000  6670.000000  10145.000000      7705.000000  10144.000000   \n",
       "mean    118.314526     0.964100      0.260649         1.807118      1.899384   \n",
       "std      63.044366     3.126601      0.264173         3.224995      6.838656   \n",
       "min      11.000000     0.000000      0.000000         0.090000      0.000000   \n",
       "25%      71.000000     0.027580      0.100000         0.280000      0.480000   \n",
       "50%     101.000000     0.062984      0.150000         0.470000      0.790000   \n",
       "75%     155.000000     0.159875      0.330000         0.970000      1.540158   \n",
       "max     350.000000    40.850000      2.470000        22.250000    431.600000   \n",
       "\n",
       "          magError       magNst  \n",
       "count  8365.000000  8653.000000  \n",
       "mean      0.276746    15.223391  \n",
       "std       0.519639    28.406674  \n",
       "min       0.000000     0.000000  \n",
       "25%       0.106000     4.000000  \n",
       "50%       0.167000     7.000000  \n",
       "75%       0.250000    16.000000  \n",
       "max       5.520000   645.000000  "
      ]
     },
     "execution_count": 18,
     "metadata": {},
     "output_type": "execute_result"
    }
   ],
   "source": [
    "#-------------------------------------------\n",
    "# New Data Exploration\n",
    "#-------------------------------------------\n",
    "earthquake_iso.describe()"
   ]
  },
  {
   "cell_type": "code",
   "execution_count": 28,
   "metadata": {},
   "outputs": [],
   "source": [
    "#-------------------------------------------\n",
    "# Further cleaning by gap data\n",
    "#-------------------------------------------\n",
    "# for location and depth explorations I should remove gap values of larger than 180 degrees\n",
    "# as according to the documentation the gap values larger that 180 degrees, represent \n",
    "# location and depth data that has large uncertainties. The smaller the number the more accurate. \n",
    "# lets remove those and then see the rest in a scatter plot. \n",
    "\n",
    "earthquake_gap_iso = earthquake_iso[earthquake_iso['gap'] < 180]\n"
   ]
  },
  {
   "cell_type": "code",
   "execution_count": 29,
   "metadata": {},
   "outputs": [
    {
     "data": {
      "text/plain": [
       "<matplotlib.collections.PathCollection at 0x139fb7130>"
      ]
     },
     "execution_count": 29,
     "metadata": {},
     "output_type": "execute_result"
    },
    {
     "data": {
      "image/png": "[encoded data removed]",
      "text/plain": [
       "<Figure size 640x480 with 1 Axes>"
      ]
     },
     "metadata": {},
     "output_type": "display_data"
    }
   ],
   "source": [
    "\n",
    "# plot the gap data in a scatter plot\n",
    "plt.scatter(earthquake_gap_iso['magSource'], earthquake_gap_iso['gap'])"
   ]
  }
 ],
 "metadata": {
  "kernelspec": {
   "display_name": "Python 3.10.7 64-bit",
   "language": "python",
   "name": "python3"
  },
  "language_info": {
   "codemirror_mode": {
    "name": "ipython",
    "version": 3
   },
   "file_extension": ".py",
   "mimetype": "text/x-python",
   "name": "python",
   "nbconvert_exporter": "python",
   "pygments_lexer": "ipython3",
   "version": "3.10.7"
  },
  "orig_nbformat": 4,
  "vscode": {
   "interpreter": {
    "hash": "aee8b7b246df8f9039afb4144a1f6fd8d2ca17a180786b69acc140d282b71a49"
   }
  }
 },
 "nbformat": 4,
 "nbformat_minor": 2
}
